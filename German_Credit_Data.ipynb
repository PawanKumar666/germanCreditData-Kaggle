{
 "cells": [
  {
   "cell_type": "markdown",
   "id": "f86733f0",
   "metadata": {},
   "source": [
    "# German Credit"
   ]
  },
  {
   "cell_type": "code",
   "execution_count": 465,
   "id": "e63e9d48",
   "metadata": {},
   "outputs": [],
   "source": [
    "#importing necessary libraries\n",
    "\n",
    "import numpy as np\n",
    "import pandas as pd\n",
    "import matplotlib.pyplot as plt\n",
    "import seaborn as sns\n",
    "import random\n",
    "\n",
    "%matplotlib inline"
   ]
  },
  {
   "cell_type": "code",
   "execution_count": 466,
   "id": "ef80d598",
   "metadata": {},
   "outputs": [],
   "source": [
    "#Reading the data\n",
    "\n",
    "data = pd.read_csv('german_credit_data.csv')"
   ]
  },
  {
   "cell_type": "code",
   "execution_count": 289,
   "id": "0c1f375f",
   "metadata": {},
   "outputs": [
    {
     "data": {
      "text/html": [
       "<div>\n",
       "<style scoped>\n",
       "    .dataframe tbody tr th:only-of-type {\n",
       "        vertical-align: middle;\n",
       "    }\n",
       "\n",
       "    .dataframe tbody tr th {\n",
       "        vertical-align: top;\n",
       "    }\n",
       "\n",
       "    .dataframe thead th {\n",
       "        text-align: right;\n",
       "    }\n",
       "</style>\n",
       "<table border=\"1\" class=\"dataframe\">\n",
       "  <thead>\n",
       "    <tr style=\"text-align: right;\">\n",
       "      <th></th>\n",
       "      <th>Unnamed: 0</th>\n",
       "      <th>Age</th>\n",
       "      <th>Sex</th>\n",
       "      <th>Job</th>\n",
       "      <th>Housing</th>\n",
       "      <th>Saving accounts</th>\n",
       "      <th>Checking account</th>\n",
       "      <th>Credit amount</th>\n",
       "      <th>Duration</th>\n",
       "      <th>Purpose</th>\n",
       "      <th>Risk</th>\n",
       "    </tr>\n",
       "  </thead>\n",
       "  <tbody>\n",
       "    <tr>\n",
       "      <th>0</th>\n",
       "      <td>0</td>\n",
       "      <td>67</td>\n",
       "      <td>male</td>\n",
       "      <td>2</td>\n",
       "      <td>own</td>\n",
       "      <td>NaN</td>\n",
       "      <td>little</td>\n",
       "      <td>1169</td>\n",
       "      <td>6</td>\n",
       "      <td>radio/TV</td>\n",
       "      <td>good</td>\n",
       "    </tr>\n",
       "    <tr>\n",
       "      <th>1</th>\n",
       "      <td>1</td>\n",
       "      <td>22</td>\n",
       "      <td>female</td>\n",
       "      <td>2</td>\n",
       "      <td>own</td>\n",
       "      <td>little</td>\n",
       "      <td>moderate</td>\n",
       "      <td>5951</td>\n",
       "      <td>48</td>\n",
       "      <td>radio/TV</td>\n",
       "      <td>bad</td>\n",
       "    </tr>\n",
       "    <tr>\n",
       "      <th>2</th>\n",
       "      <td>2</td>\n",
       "      <td>49</td>\n",
       "      <td>male</td>\n",
       "      <td>1</td>\n",
       "      <td>own</td>\n",
       "      <td>little</td>\n",
       "      <td>NaN</td>\n",
       "      <td>2096</td>\n",
       "      <td>12</td>\n",
       "      <td>education</td>\n",
       "      <td>good</td>\n",
       "    </tr>\n",
       "    <tr>\n",
       "      <th>3</th>\n",
       "      <td>3</td>\n",
       "      <td>45</td>\n",
       "      <td>male</td>\n",
       "      <td>2</td>\n",
       "      <td>free</td>\n",
       "      <td>little</td>\n",
       "      <td>little</td>\n",
       "      <td>7882</td>\n",
       "      <td>42</td>\n",
       "      <td>furniture/equipment</td>\n",
       "      <td>good</td>\n",
       "    </tr>\n",
       "    <tr>\n",
       "      <th>4</th>\n",
       "      <td>4</td>\n",
       "      <td>53</td>\n",
       "      <td>male</td>\n",
       "      <td>2</td>\n",
       "      <td>free</td>\n",
       "      <td>little</td>\n",
       "      <td>little</td>\n",
       "      <td>4870</td>\n",
       "      <td>24</td>\n",
       "      <td>car</td>\n",
       "      <td>bad</td>\n",
       "    </tr>\n",
       "  </tbody>\n",
       "</table>\n",
       "</div>"
      ],
      "text/plain": [
       "   Unnamed: 0  Age     Sex  Job Housing Saving accounts Checking account  \\\n",
       "0           0   67    male    2     own             NaN           little   \n",
       "1           1   22  female    2     own          little         moderate   \n",
       "2           2   49    male    1     own          little              NaN   \n",
       "3           3   45    male    2    free          little           little   \n",
       "4           4   53    male    2    free          little           little   \n",
       "\n",
       "   Credit amount  Duration              Purpose  Risk  \n",
       "0           1169         6             radio/TV  good  \n",
       "1           5951        48             radio/TV   bad  \n",
       "2           2096        12            education  good  \n",
       "3           7882        42  furniture/equipment  good  \n",
       "4           4870        24                  car   bad  "
      ]
     },
     "execution_count": 289,
     "metadata": {},
     "output_type": "execute_result"
    }
   ],
   "source": [
    "data.head()"
   ]
  },
  {
   "cell_type": "markdown",
   "id": "1e20f347",
   "metadata": {},
   "source": [
    "# Exploratory Data Analysis"
   ]
  },
  {
   "cell_type": "code",
   "execution_count": 467,
   "id": "7dabeb13",
   "metadata": {},
   "outputs": [
    {
     "data": {
      "text/html": [
       "<div>\n",
       "<style scoped>\n",
       "    .dataframe tbody tr th:only-of-type {\n",
       "        vertical-align: middle;\n",
       "    }\n",
       "\n",
       "    .dataframe tbody tr th {\n",
       "        vertical-align: top;\n",
       "    }\n",
       "\n",
       "    .dataframe thead th {\n",
       "        text-align: right;\n",
       "    }\n",
       "</style>\n",
       "<table border=\"1\" class=\"dataframe\">\n",
       "  <thead>\n",
       "    <tr style=\"text-align: right;\">\n",
       "      <th></th>\n",
       "      <th>Age</th>\n",
       "      <th>Sex</th>\n",
       "      <th>Job</th>\n",
       "      <th>Housing</th>\n",
       "      <th>Saving accounts</th>\n",
       "      <th>Checking account</th>\n",
       "      <th>Credit amount</th>\n",
       "      <th>Duration</th>\n",
       "      <th>Purpose</th>\n",
       "      <th>Risk</th>\n",
       "    </tr>\n",
       "  </thead>\n",
       "  <tbody>\n",
       "    <tr>\n",
       "      <th>0</th>\n",
       "      <td>67</td>\n",
       "      <td>male</td>\n",
       "      <td>2</td>\n",
       "      <td>own</td>\n",
       "      <td>NaN</td>\n",
       "      <td>little</td>\n",
       "      <td>1169</td>\n",
       "      <td>6</td>\n",
       "      <td>radio/TV</td>\n",
       "      <td>good</td>\n",
       "    </tr>\n",
       "    <tr>\n",
       "      <th>1</th>\n",
       "      <td>22</td>\n",
       "      <td>female</td>\n",
       "      <td>2</td>\n",
       "      <td>own</td>\n",
       "      <td>little</td>\n",
       "      <td>moderate</td>\n",
       "      <td>5951</td>\n",
       "      <td>48</td>\n",
       "      <td>radio/TV</td>\n",
       "      <td>bad</td>\n",
       "    </tr>\n",
       "    <tr>\n",
       "      <th>2</th>\n",
       "      <td>49</td>\n",
       "      <td>male</td>\n",
       "      <td>1</td>\n",
       "      <td>own</td>\n",
       "      <td>little</td>\n",
       "      <td>NaN</td>\n",
       "      <td>2096</td>\n",
       "      <td>12</td>\n",
       "      <td>education</td>\n",
       "      <td>good</td>\n",
       "    </tr>\n",
       "    <tr>\n",
       "      <th>3</th>\n",
       "      <td>45</td>\n",
       "      <td>male</td>\n",
       "      <td>2</td>\n",
       "      <td>free</td>\n",
       "      <td>little</td>\n",
       "      <td>little</td>\n",
       "      <td>7882</td>\n",
       "      <td>42</td>\n",
       "      <td>furniture/equipment</td>\n",
       "      <td>good</td>\n",
       "    </tr>\n",
       "    <tr>\n",
       "      <th>4</th>\n",
       "      <td>53</td>\n",
       "      <td>male</td>\n",
       "      <td>2</td>\n",
       "      <td>free</td>\n",
       "      <td>little</td>\n",
       "      <td>little</td>\n",
       "      <td>4870</td>\n",
       "      <td>24</td>\n",
       "      <td>car</td>\n",
       "      <td>bad</td>\n",
       "    </tr>\n",
       "  </tbody>\n",
       "</table>\n",
       "</div>"
      ],
      "text/plain": [
       "   Age     Sex  Job Housing Saving accounts Checking account  Credit amount  \\\n",
       "0   67    male    2     own             NaN           little           1169   \n",
       "1   22  female    2     own          little         moderate           5951   \n",
       "2   49    male    1     own          little              NaN           2096   \n",
       "3   45    male    2    free          little           little           7882   \n",
       "4   53    male    2    free          little           little           4870   \n",
       "\n",
       "   Duration              Purpose  Risk  \n",
       "0         6             radio/TV  good  \n",
       "1        48             radio/TV   bad  \n",
       "2        12            education  good  \n",
       "3        42  furniture/equipment  good  \n",
       "4        24                  car   bad  "
      ]
     },
     "execution_count": 467,
     "metadata": {},
     "output_type": "execute_result"
    }
   ],
   "source": [
    "#Removing the unnecessary column\n",
    "\n",
    "data = data.drop(['Unnamed: 0'],axis = 1)\n",
    "\n",
    "data.head()"
   ]
  },
  {
   "cell_type": "code",
   "execution_count": 78,
   "id": "9e1eb03f",
   "metadata": {},
   "outputs": [
    {
     "name": "stdout",
     "output_type": "stream",
     "text": [
      "<class 'pandas.core.frame.DataFrame'>\n",
      "RangeIndex: 1000 entries, 0 to 999\n",
      "Data columns (total 10 columns):\n",
      " #   Column            Non-Null Count  Dtype \n",
      "---  ------            --------------  ----- \n",
      " 0   Age               1000 non-null   int64 \n",
      " 1   Sex               1000 non-null   object\n",
      " 2   Job               1000 non-null   int64 \n",
      " 3   Housing           1000 non-null   object\n",
      " 4   Saving accounts   817 non-null    object\n",
      " 5   Checking account  606 non-null    object\n",
      " 6   Credit amount     1000 non-null   int64 \n",
      " 7   Duration          1000 non-null   int64 \n",
      " 8   Purpose           1000 non-null   object\n",
      " 9   Risk              1000 non-null   object\n",
      "dtypes: int64(4), object(6)\n",
      "memory usage: 78.2+ KB\n"
     ]
    }
   ],
   "source": [
    "data.info()"
   ]
  },
  {
   "cell_type": "code",
   "execution_count": 79,
   "id": "7e05e937",
   "metadata": {},
   "outputs": [
    {
     "data": {
      "text/html": [
       "<div>\n",
       "<style scoped>\n",
       "    .dataframe tbody tr th:only-of-type {\n",
       "        vertical-align: middle;\n",
       "    }\n",
       "\n",
       "    .dataframe tbody tr th {\n",
       "        vertical-align: top;\n",
       "    }\n",
       "\n",
       "    .dataframe thead th {\n",
       "        text-align: right;\n",
       "    }\n",
       "</style>\n",
       "<table border=\"1\" class=\"dataframe\">\n",
       "  <thead>\n",
       "    <tr style=\"text-align: right;\">\n",
       "      <th></th>\n",
       "      <th>Age</th>\n",
       "      <th>Job</th>\n",
       "      <th>Credit amount</th>\n",
       "      <th>Duration</th>\n",
       "    </tr>\n",
       "  </thead>\n",
       "  <tbody>\n",
       "    <tr>\n",
       "      <th>count</th>\n",
       "      <td>1000.000000</td>\n",
       "      <td>1000.000000</td>\n",
       "      <td>1000.000000</td>\n",
       "      <td>1000.000000</td>\n",
       "    </tr>\n",
       "    <tr>\n",
       "      <th>mean</th>\n",
       "      <td>35.546000</td>\n",
       "      <td>1.904000</td>\n",
       "      <td>3271.258000</td>\n",
       "      <td>20.903000</td>\n",
       "    </tr>\n",
       "    <tr>\n",
       "      <th>std</th>\n",
       "      <td>11.375469</td>\n",
       "      <td>0.653614</td>\n",
       "      <td>2822.736876</td>\n",
       "      <td>12.058814</td>\n",
       "    </tr>\n",
       "    <tr>\n",
       "      <th>min</th>\n",
       "      <td>19.000000</td>\n",
       "      <td>0.000000</td>\n",
       "      <td>250.000000</td>\n",
       "      <td>4.000000</td>\n",
       "    </tr>\n",
       "    <tr>\n",
       "      <th>25%</th>\n",
       "      <td>27.000000</td>\n",
       "      <td>2.000000</td>\n",
       "      <td>1365.500000</td>\n",
       "      <td>12.000000</td>\n",
       "    </tr>\n",
       "    <tr>\n",
       "      <th>50%</th>\n",
       "      <td>33.000000</td>\n",
       "      <td>2.000000</td>\n",
       "      <td>2319.500000</td>\n",
       "      <td>18.000000</td>\n",
       "    </tr>\n",
       "    <tr>\n",
       "      <th>75%</th>\n",
       "      <td>42.000000</td>\n",
       "      <td>2.000000</td>\n",
       "      <td>3972.250000</td>\n",
       "      <td>24.000000</td>\n",
       "    </tr>\n",
       "    <tr>\n",
       "      <th>max</th>\n",
       "      <td>75.000000</td>\n",
       "      <td>3.000000</td>\n",
       "      <td>18424.000000</td>\n",
       "      <td>72.000000</td>\n",
       "    </tr>\n",
       "  </tbody>\n",
       "</table>\n",
       "</div>"
      ],
      "text/plain": [
       "               Age          Job  Credit amount     Duration\n",
       "count  1000.000000  1000.000000    1000.000000  1000.000000\n",
       "mean     35.546000     1.904000    3271.258000    20.903000\n",
       "std      11.375469     0.653614    2822.736876    12.058814\n",
       "min      19.000000     0.000000     250.000000     4.000000\n",
       "25%      27.000000     2.000000    1365.500000    12.000000\n",
       "50%      33.000000     2.000000    2319.500000    18.000000\n",
       "75%      42.000000     2.000000    3972.250000    24.000000\n",
       "max      75.000000     3.000000   18424.000000    72.000000"
      ]
     },
     "execution_count": 79,
     "metadata": {},
     "output_type": "execute_result"
    }
   ],
   "source": [
    "data.describe()"
   ]
  },
  {
   "cell_type": "code",
   "execution_count": 80,
   "id": "7961b120",
   "metadata": {},
   "outputs": [
    {
     "data": {
      "text/plain": [
       "Age                   0\n",
       "Sex                   0\n",
       "Job                   0\n",
       "Housing               0\n",
       "Saving accounts     183\n",
       "Checking account    394\n",
       "Credit amount         0\n",
       "Duration              0\n",
       "Purpose               0\n",
       "Risk                  0\n",
       "dtype: int64"
      ]
     },
     "execution_count": 80,
     "metadata": {},
     "output_type": "execute_result"
    }
   ],
   "source": [
    "#Checking for null values\n",
    "\n",
    "data.isnull().sum()"
   ]
  },
  {
   "cell_type": "code",
   "execution_count": 81,
   "id": "83ec3d10",
   "metadata": {},
   "outputs": [
    {
     "data": {
      "text/plain": [
       "good    700\n",
       "bad     300\n",
       "Name: Risk, dtype: int64"
      ]
     },
     "execution_count": 81,
     "metadata": {},
     "output_type": "execute_result"
    }
   ],
   "source": [
    "#Checking the dependant variable distribution : This shows that the dependant variable is imbalanced\n",
    "\n",
    "data['Risk'].value_counts()"
   ]
  },
  {
   "cell_type": "markdown",
   "id": "5f0f8ed7",
   "metadata": {},
   "source": [
    "Analyzing the features with null values to fill them effectively"
   ]
  },
  {
   "cell_type": "code",
   "execution_count": 54,
   "id": "4f047901",
   "metadata": {},
   "outputs": [
    {
     "data": {
      "text/plain": [
       "little        603\n",
       "moderate      103\n",
       "quite rich     63\n",
       "rich           48\n",
       "Name: Saving accounts, dtype: int64"
      ]
     },
     "execution_count": 54,
     "metadata": {},
     "output_type": "execute_result"
    }
   ],
   "source": [
    "data['Saving accounts'].value_counts()"
   ]
  },
  {
   "cell_type": "code",
   "execution_count": 55,
   "id": "491671fc",
   "metadata": {},
   "outputs": [
    {
     "data": {
      "text/plain": [
       "little      274\n",
       "moderate    269\n",
       "rich         63\n",
       "Name: Checking account, dtype: int64"
      ]
     },
     "execution_count": 55,
     "metadata": {},
     "output_type": "execute_result"
    }
   ],
   "source": [
    "data['Checking account'].value_counts() "
   ]
  },
  {
   "cell_type": "code",
   "execution_count": 468,
   "id": "541f26cf",
   "metadata": {},
   "outputs": [],
   "source": [
    "#Encoding the target variable(for plotting purposes)\n",
    "\n",
    "data['Risk'] = np.where(data['Risk'] == 'good',1,0)"
   ]
  },
  {
   "cell_type": "code",
   "execution_count": 6,
   "id": "c3ae289b",
   "metadata": {},
   "outputs": [
    {
     "data": {
      "image/png": "[encoded data removed]",
      "text/plain": [
       "<Figure size 432x288 with 1 Axes>"
      ]
     },
     "metadata": {
      "needs_background": "light"
     },
     "output_type": "display_data"
    },
    {
     "data": {
      "image/png": "[encoded data removed]",
      "text/plain": [
       "<Figure size 432x288 with 1 Axes>"
      ]
     },
     "metadata": {
      "needs_background": "light"
     },
     "output_type": "display_data"
    }
   ],
   "source": [
    "#Plot to see whether the null values have any significance towards the target\n",
    "\n",
    "featureNa = [feature for feature in data.columns if data[feature].isnull().sum()>0]\n",
    "\n",
    "for feature in featureNa:\n",
    "    data_plot = data.copy()\n",
    "    \n",
    "    data_plot[feature] = np.where(data_plot[feature].isnull(), 1, 0)\n",
    "    \n",
    "    data_plot.groupby(feature)['Risk'].mean().plot.bar()\n",
    "    plt.title(feature)\n",
    "    plt.show()"
   ]
  },
  {
   "cell_type": "code",
   "execution_count": 69,
   "id": "6adacf19",
   "metadata": {},
   "outputs": [
    {
     "data": {
      "image/png": "[encoded data removed]",
      "text/plain": [
       "<Figure size 432x288 with 1 Axes>"
      ]
     },
     "metadata": {
      "needs_background": "light"
     },
     "output_type": "display_data"
    },
    {
     "data": {
      "image/png": "[encoded data removed]",
      "text/plain": [
       "<Figure size 432x288 with 1 Axes>"
      ]
     },
     "metadata": {
      "needs_background": "light"
     },
     "output_type": "display_data"
    }
   ],
   "source": [
    "#Finding which category of missing feature has which target possiblity\n",
    "\n",
    "for feature in featureNa:\n",
    "    data.groupby(feature)['Risk'].mean().plot.bar()\n",
    "    plt.title(feature)\n",
    "    plt.show()"
   ]
  },
  {
   "cell_type": "markdown",
   "id": "cdc84de8",
   "metadata": {},
   "source": [
    "Break down of features into the base categories [Categorical,discrete,continuous]"
   ]
  },
  {
   "cell_type": "code",
   "execution_count": 413,
   "id": "47bead92",
   "metadata": {},
   "outputs": [
    {
     "name": "stdout",
     "output_type": "stream",
     "text": [
      "Sex feature has 2 categories\n",
      "Housing feature has 3 categories\n",
      "Saving accounts feature has 6 categories\n",
      "Checking account feature has 5 categories\n",
      "Purpose feature has 8 categories\n"
     ]
    }
   ],
   "source": [
    "categorical_columns = [feature for feature in data.columns if(data[feature].dtypes == 'O')]\n",
    "\n",
    "for feature in categorical_columns:\n",
    "    print(\"{} feature has {} categories\".format(feature,len(data[feature].value_counts())))"
   ]
  },
  {
   "cell_type": "code",
   "execution_count": 414,
   "id": "924d89d4",
   "metadata": {},
   "outputs": [
    {
     "name": "stdout",
     "output_type": "stream",
     "text": [
      "Job feature has 4 different data point values\n",
      "Risk feature has 2 different data point values\n",
      "Saving accountsNa feature has 2 different data point values\n",
      "Checking accountNa feature has 2 different data point values\n"
     ]
    }
   ],
   "source": [
    "#Lets split the numerical feature further into discrete and continuous with a threshold of 20\n",
    "\n",
    "discrete_columns = [feature for feature in data.columns if len(data[feature].unique()) < 20 \n",
    "                                                                 and feature not in categorical_columns]\n",
    "\n",
    "for feature in discrete_columns:\n",
    "    print(\"{} feature has {} different data point values\".format(feature,len(data[feature].value_counts())))"
   ]
  },
  {
   "cell_type": "code",
   "execution_count": 415,
   "id": "08cbe987",
   "metadata": {},
   "outputs": [
    {
     "name": "stdout",
     "output_type": "stream",
     "text": [
      "Age feature has 53 different data point values\n",
      "Credit amount feature has 921 different data point values\n",
      "Duration feature has 33 different data point values\n"
     ]
    }
   ],
   "source": [
    "continuous_columns = [feature for feature in data.columns if feature not in discrete_columns+categorical_columns]\n",
    "\n",
    "\n",
    "for feature in continuous_columns:\n",
    "    print(\"{} feature has {} different data point values\".format(feature,len(data[feature].value_counts())))"
   ]
  },
  {
   "cell_type": "code",
   "execution_count": 61,
   "id": "7ed5d5cc",
   "metadata": {},
   "outputs": [
    {
     "data": {
      "image/png": "[encoded data removed]",
      "text/plain": [
       "<Figure size 432x288 with 1 Axes>"
      ]
     },
     "metadata": {
      "needs_background": "light"
     },
     "output_type": "display_data"
    },
    {
     "data": {
      "image/png": "[encoded data removed]",
      "text/plain": [
       "<Figure size 432x288 with 1 Axes>"
      ]
     },
     "metadata": {
      "needs_background": "light"
     },
     "output_type": "display_data"
    },
    {
     "data": {
      "image/png": "[encoded data removed]",
      "text/plain": [
       "<Figure size 432x288 with 1 Axes>"
      ]
     },
     "metadata": {
      "needs_background": "light"
     },
     "output_type": "display_data"
    }
   ],
   "source": [
    "#Lets understand the distribution of continuous variable features in using histograms\n",
    "\n",
    "for feature in continuous_columns:\n",
    "    data_cont_plot=data.copy()\n",
    "    data_cont_plot[feature].hist(bins=25)\n",
    "    plt.xlabel(feature)\n",
    "    plt.ylabel(\"Count\")\n",
    "    plt.title(feature)\n",
    "    plt.show()"
   ]
  },
  {
   "cell_type": "markdown",
   "id": "57e00bf0",
   "metadata": {},
   "source": [
    "# Feature Engineering"
   ]
  },
  {
   "cell_type": "markdown",
   "id": "44112991",
   "metadata": {},
   "source": [
    "Since the null values showed some significance towards the target, I'm adding new features which denotes whether the root feature was null or not"
   ]
  },
  {
   "cell_type": "code",
   "execution_count": 469,
   "id": "f09115d9",
   "metadata": {},
   "outputs": [],
   "source": [
    "for feature in featureNa:\n",
    "    data[feature+'Na'] = np.where(data[feature].isnull(), 1, 0)\n",
    "    data[feature] = np.where(data[feature].isnull(),1,data[feature])"
   ]
  },
  {
   "cell_type": "code",
   "execution_count": 470,
   "id": "6397fccf",
   "metadata": {},
   "outputs": [
    {
     "data": {
      "text/plain": [
       "array([1, 'little', 'little', 'little', 'little', 1, 'quite rich',\n",
       "       'little', 'rich', 'little', 'little', 'little', 'little', 'little',\n",
       "       'little', 'moderate', 1, 1, 'little', 'quite rich', 'little',\n",
       "       'quite rich', 'little', 'moderate', 1, 'little', 'little', 'rich',\n",
       "       'little', 'little', 'rich', 'little', 'moderate', 1, 'little',\n",
       "       'little', 'little', 'little', 'little', 'little', 'quite rich',\n",
       "       'quite rich', 'little', 'moderate', 'little', 'little',\n",
       "       'quite rich', 'quite rich', 'little', 'moderate', 1, 'little',\n",
       "       'little', 1, 'little', 1, 1, 'little', 'little', 'little',\n",
       "       'little', 1, 'little', 'little', 'little', 1, 'little', 'rich',\n",
       "       'little', 1, 'little', 1, 'little', 'little', 1, 'little',\n",
       "       'little', 'little', 1, 'little', 1, 'quite rich', 'moderate',\n",
       "       'little', 'little', 'little', 'little', 'moderate', 'moderate',\n",
       "       'little', 'little', 'little', 1, 1, 'rich', 'little', 1,\n",
       "       'moderate', 'little', 1, 'moderate', 'little', 'little', 'little',\n",
       "       1, 'little', 'little', 'little', 1, 'quite rich', 'moderate',\n",
       "       'little', 'little', 'little', 'quite rich', 1, 1, 1, 'quite rich',\n",
       "       'quite rich', 'little', 'little', 'little', 'little', 1, 'little',\n",
       "       'little', 'little', 'little', 'little', 1, 'little', 'little',\n",
       "       'little', 'moderate', 1, 'rich', 'quite rich', 1, 'little', 'rich',\n",
       "       'little', 'little', 'little', 'little', 'moderate', 'little',\n",
       "       'moderate', 'little', 'rich', 'moderate', 'little', 'little',\n",
       "       'rich', 'moderate', 'little', 'moderate', 'little', 'moderate', 1,\n",
       "       'moderate', 'little', 'quite rich', 'little', 'quite rich',\n",
       "       'quite rich', 'little', 'rich', 'little', 'little', 'little',\n",
       "       'little', 'little', 'little', 'little', 1, 'little', 'quite rich',\n",
       "       'little', 'little', 'little', 'little', 1, 'rich', 'little',\n",
       "       'little', 'little', 'little', 'moderate', 'little', 'rich',\n",
       "       'moderate', 'little', 'little', 'moderate', 'little', 'little',\n",
       "       'moderate', 1, 'little', 'quite rich', 'little', 'little',\n",
       "       'little', 'little', 'little', 'little', 'little', 'little', 'rich',\n",
       "       1, 1, 'little', 'little', 1, 1, 'little', 'little', 'little',\n",
       "       'little', 'little', 1, 'little', 1, 'little', 'little', 'rich',\n",
       "       'little', 'little', 'little', 'little', 'quite rich', 'moderate',\n",
       "       'little', 'little', 'little', 1, 'moderate', 'little', 'little', 1,\n",
       "       'little', 'little', 'little', 'quite rich', 'little', 'little',\n",
       "       'moderate', 'little', 'little', 'rich', 'little', 'little',\n",
       "       'moderate', 1, 1, 'little', 'little', 'moderate', 'moderate',\n",
       "       'little', 'little', 'little', 'little', 'little', 'little', 1,\n",
       "       'little', 'little', 1, 1, 'quite rich', 1, 'little', 'little',\n",
       "       'little', 'little', 1, 'little', 'moderate', 'rich', 'little', 1,\n",
       "       1, 'moderate', 'little', 'little', 'moderate', 'little', 'little',\n",
       "       'little', 'little', 'little', 'little', 1, 'little', 1, 1,\n",
       "       'little', 'rich', 'little', 'little', 1, 'little', 'quite rich',\n",
       "       'rich', 1, 'moderate', 'little', 'little', 1, 'moderate', 'little',\n",
       "       'little', 1, 'little', 'little', 1, 'little', 'little', 'little',\n",
       "       'little', 'little', 'rich', 'little', 'little', 1, 'rich',\n",
       "       'little', 'little', 'little', 'moderate', 'moderate', 'moderate',\n",
       "       'little', 'little', 'little', 1, 'little', 'little', 'little',\n",
       "       'little', 'quite rich', 'little', 'little', 'little', 'little',\n",
       "       'quite rich', 'moderate', 'rich', 'little', 'little', 1, 'little',\n",
       "       'quite rich', 'little', 1, 'little', 'little', 'little', 1, 1,\n",
       "       'little', 'little', 'little', 'little', 'little', 'little',\n",
       "       'little', 'little', 1, 'little', 'little', 1, 'moderate', 'little',\n",
       "       'little', 1, 'little', 'moderate', 1, 'little', 1, 'little',\n",
       "       'moderate', 'little', 1, 'little', 'quite rich', 'little',\n",
       "       'little', 'rich', 'little', 'little', 'little', 'moderate',\n",
       "       'little', 'little', 'little', 'rich', 'little', 1, 'little',\n",
       "       'little', 1, 'little', 1, 'little', 'quite rich', 'quite rich',\n",
       "       'little', 'little', 'little', 'quite rich', 1, 'little', 'little',\n",
       "       1, 'quite rich', 1, 'rich', 1, 'little', 'moderate', 1, 'little',\n",
       "       'little', 'rich', 'little', 'little', 'little', 'little', 'little',\n",
       "       'little', 'little', 1, 'quite rich', 'rich', 'little', 'little',\n",
       "       'little', 'little', 'little', 'little', 'little', 1, 'little',\n",
       "       'little', 1, 'rich', 1, 'little', 'little', 'little', 'little',\n",
       "       'little', 'little', 'little', 'little', 'little', 'little',\n",
       "       'little', 'little', 1, 'little', 'little', 'little', 1, 'little',\n",
       "       'little', 'moderate', 'little', 'little', 1, 'little', 'little',\n",
       "       'quite rich', 'little', 'moderate', 'little', 'little', 'little',\n",
       "       'rich', 'rich', 'quite rich', 'little', 'little', 'little',\n",
       "       'moderate', 'little', 'little', 'little', 'moderate', 1, 'little',\n",
       "       1, 'moderate', 'little', 'little', 'moderate', 'little', 'little',\n",
       "       'moderate', 'moderate', 'little', 1, 'quite rich', 'moderate',\n",
       "       'little', 'moderate', 'little', 'little', 'little', 'little', 1,\n",
       "       'little', 'little', 'little', 'moderate', 1, 'little', 'little',\n",
       "       'little', 'moderate', 'little', 'little', 'moderate', 'little',\n",
       "       'little', 'little', 'little', 'moderate', 'little', 'moderate', 1,\n",
       "       'little', 1, 'little', 'little', 'little', 'little', 'little', 1,\n",
       "       'little', 'little', 'little', 'little', 'little', 'little', 1, 1,\n",
       "       'quite rich', 'little', 'moderate', 'little', 'little', 'moderate',\n",
       "       1, 'little', 'little', 1, 'little', 'little', 1, 1, 'moderate',\n",
       "       'little', 'rich', 1, 'little', 'little', 'little', 1, 'little',\n",
       "       'little', 'little', 'little', 1, 'little', 'little', 'little',\n",
       "       'little', 'little', 'little', 1, 'little', 'little', 'little',\n",
       "       'little', 'little', 'little', 1, 'rich', 'little', 1, 'moderate',\n",
       "       'little', 'little', 'little', 'little', 'little', 'little',\n",
       "       'little', 'little', 'little', 'quite rich', 'little', 'moderate',\n",
       "       'little', 1, 'moderate', 'moderate', 'rich', 'little', 'little', 1,\n",
       "       1, 'little', 'moderate', 'little', 'little', 'little', 1, 'little',\n",
       "       'little', 1, 'little', 'moderate', 'quite rich', 1, 'little',\n",
       "       'little', 1, 'little', 'little', 'little', 'quite rich', 'little',\n",
       "       'little', 'little', 'little', 'little', 'moderate', 'little',\n",
       "       'little', 1, 'little', 'quite rich', 'little', 'little', 'little',\n",
       "       'little', 'little', 'moderate', 'little', 'little', 'little', 1,\n",
       "       'little', 'little', 'little', 1, 'little', 'little', 'little',\n",
       "       'little', 'rich', 'little', 'little', 'little', 'moderate',\n",
       "       'moderate', 'little', 'quite rich', 'quite rich', 'little',\n",
       "       'little', 'moderate', 'little', 'little', 'little', 1, 'little',\n",
       "       'little', 'moderate', 1, 1, 'moderate', 'moderate', 'rich',\n",
       "       'little', 'moderate', 'moderate', 1, 'little', 'quite rich',\n",
       "       'little', 'little', 'little', 'little', 'quite rich', 'little',\n",
       "       'moderate', 'moderate', 'little', 'quite rich', 'moderate',\n",
       "       'little', 'little', 'little', 'quite rich', 'little', 1, 'little',\n",
       "       'little', 1, 1, 'little', 1, 'moderate', 'little', 'rich',\n",
       "       'little', 'quite rich', 'little', 'rich', 'quite rich', 'little',\n",
       "       'little', 'rich', 'little', 'little', 'little', 'rich', 'little',\n",
       "       1, 'little', 'moderate', 'little', 'moderate', 'moderate',\n",
       "       'little', 1, 'quite rich', 1, 'little', 'little', 'little', 1,\n",
       "       'little', 'little', 'little', 'moderate', 'little', 'rich', 1,\n",
       "       'little', 1, 'little', 'little', 1, 'little', 'little', 1,\n",
       "       'moderate', 'little', 'little', 1, 'little', 'little', 1, 'little',\n",
       "       'little', 'moderate', 'quite rich', 1, 'little', 'little', 'rich',\n",
       "       'little', 'little', 'rich', 'little', 'moderate', 1, 'rich',\n",
       "       'quite rich', 1, 'little', 'little', 'little', 1, 1, 'little',\n",
       "       'quite rich', 'moderate', 1, 'little', 1, 1, 'little', 'little',\n",
       "       'little', 1, 1, 'little', 'little', 1, 'little', 'little',\n",
       "       'little', 'little', 'little', 'little', 'little', 'little',\n",
       "       'quite rich', 'little', 'little', 'little', 'little', 'little',\n",
       "       'little', 'little', 'little', 'little', 'little', 'little', 1, 1,\n",
       "       'quite rich', 'little', 'little', 1, 'little', 'little', 1,\n",
       "       'little', 'little', 'little', 'little', 'little', 'little',\n",
       "       'little', 'little', 1, 1, 'little', 'little', 'little', 'little',\n",
       "       1, 'little', 'little', 'little', 'moderate', 1, 'little', 'little',\n",
       "       'moderate', 'rich', 'little', 'little', 'rich', 'little',\n",
       "       'quite rich', 'little', 'little', 1, 'little', 'quite rich',\n",
       "       'little', 'moderate', 1, 'little', 'rich', 'little', 'little',\n",
       "       'little', 1, 'little', 1, 1, 'little', 'little', 'little', 1,\n",
       "       'little', 'little', 1, 'little', 'little', 'little', 'little', 1,\n",
       "       1, 'little', 'rich', 1, 'little', 'little', 1, 1, 1, 'little',\n",
       "       'little', 1, 1, 'little', 1, 'little', 'little', 1, 'rich',\n",
       "       'little', 'little', 'moderate', 'little', 'moderate', 'little',\n",
       "       'little', 'quite rich', 'little', 'little', 'little', 'little',\n",
       "       'little', 'little', 1, 'little', 'little', 'little', 'little',\n",
       "       'quite rich', 'little', 'moderate', 'little', 'little', 'little',\n",
       "       1, 1, 'little', 1, 'little', 'little', 'quite rich', 'quite rich',\n",
       "       1, 'little', 'moderate', 'little', 'little', 'quite rich',\n",
       "       'little', 'little', 'rich', 1, 'little', 'little', 'moderate',\n",
       "       'little', 'little', 1, 'quite rich', 'little', 1, 'quite rich',\n",
       "       'little', 1, 'little', 'moderate', 'little', 'little', 'little',\n",
       "       'little', 'quite rich', 'little', 1, 'little', 'moderate',\n",
       "       'little', 'little', 'moderate', 'little', 'little', 'little',\n",
       "       'little', 'moderate', 'little', 'little', 1, 'moderate', 1,\n",
       "       'little', 1, 'little', 'little', 'little', 'little', 'moderate'],\n",
       "      dtype=object)"
      ]
     },
     "execution_count": 470,
     "metadata": {},
     "output_type": "execute_result"
    }
   ],
   "source": [
    "data_saving_account = np.array(data['Saving accounts'])\n",
    "data_risk = np.array(data['Risk'])\n",
    "data_saving_account"
   ]
  },
  {
   "cell_type": "markdown",
   "id": "c1987a1a",
   "metadata": {},
   "source": [
    "Filling the null values with new features corresponding to their relationship with the data"
   ]
  },
  {
   "cell_type": "code",
   "execution_count": 471,
   "id": "3674d75e",
   "metadata": {},
   "outputs": [],
   "source": [
    "for i in range(len(data_saving_account)):\n",
    "    if(data_saving_account[i] == 1):\n",
    "        if(data_risk[i] == 1):\n",
    "            data_saving_account[i] = 'little/moderate'\n",
    "        else:\n",
    "            data_saving_account[i] = 'quite rich/rich'\n",
    "    \n",
    "data['Saving accounts'] = data_saving_account"
   ]
  },
  {
   "cell_type": "code",
   "execution_count": 410,
   "id": "fc3daba5",
   "metadata": {},
   "outputs": [
    {
     "data": {
      "text/plain": [
       "little             603\n",
       "little/moderate    151\n",
       "moderate           103\n",
       "quite rich          63\n",
       "rich                48\n",
       "quite rich/rich     32\n",
       "Name: Saving accounts, dtype: int64"
      ]
     },
     "execution_count": 410,
     "metadata": {},
     "output_type": "execute_result"
    }
   ],
   "source": [
    "data['Saving accounts'].value_counts()"
   ]
  },
  {
   "cell_type": "code",
   "execution_count": 472,
   "id": "63ca28ff",
   "metadata": {},
   "outputs": [],
   "source": [
    "data_Checking_account = np.array(data['Checking account'])\n",
    "\n",
    "for i in range(len(data_saving_account)):\n",
    "    if(data_Checking_account[i] == 1):\n",
    "        if(data_risk[i] == 1):\n",
    "            data_Checking_account[i] = 'little/lower moderate'\n",
    "        else:\n",
    "            data_Checking_account[i] = 'Higher moderate/rich'\n",
    "    \n",
    "data['Checking account'] = data_Checking_account"
   ]
  },
  {
   "cell_type": "code",
   "execution_count": 412,
   "id": "9f226ec4",
   "metadata": {},
   "outputs": [
    {
     "data": {
      "text/plain": [
       "little/lower moderate    348\n",
       "little                   274\n",
       "moderate                 269\n",
       "rich                      63\n",
       "Higher moderate/rich      46\n",
       "Name: Checking account, dtype: int64"
      ]
     },
     "execution_count": 412,
     "metadata": {},
     "output_type": "execute_result"
    }
   ],
   "source": [
    "data['Checking account'].value_counts()"
   ]
  },
  {
   "cell_type": "code",
   "execution_count": 350,
   "id": "af0f44dc",
   "metadata": {},
   "outputs": [
    {
     "data": {
      "text/plain": [
       "Age                   0\n",
       "Sex                   0\n",
       "Job                   0\n",
       "Housing               0\n",
       "Saving accounts       0\n",
       "Checking account      0\n",
       "Credit amount         0\n",
       "Duration              0\n",
       "Purpose               0\n",
       "Risk                  0\n",
       "Saving accountsNa     0\n",
       "Checking accountNa    0\n",
       "dtype: int64"
      ]
     },
     "execution_count": 350,
     "metadata": {},
     "output_type": "execute_result"
    }
   ],
   "source": [
    "data.isnull().sum()"
   ]
  },
  {
   "cell_type": "code",
   "execution_count": 299,
   "id": "6ef9347e",
   "metadata": {},
   "outputs": [
    {
     "data": {
      "text/plain": [
       "Index(['Age', 'Sex', 'Job', 'Housing', 'Saving accounts', 'Checking account',\n",
       "       'Credit amount', 'Duration', 'Purpose', 'Risk', 'Saving accountsNa',\n",
       "       'Checking accountNa'],\n",
       "      dtype='object')"
      ]
     },
     "execution_count": 299,
     "metadata": {},
     "output_type": "execute_result"
    }
   ],
   "source": [
    "data.columns"
   ]
  },
  {
   "cell_type": "markdown",
   "id": "e2f1172a",
   "metadata": {},
   "source": [
    "Since Naive bayes algorithm works based on conditional probablity, lets try to make every feature categorized and encoded so that algorihm fits well hopefully"
   ]
  },
  {
   "cell_type": "code",
   "execution_count": 252,
   "id": "ef9ce212",
   "metadata": {},
   "outputs": [
    {
     "data": {
      "text/html": [
       "<div>\n",
       "<style scoped>\n",
       "    .dataframe tbody tr th:only-of-type {\n",
       "        vertical-align: middle;\n",
       "    }\n",
       "\n",
       "    .dataframe tbody tr th {\n",
       "        vertical-align: top;\n",
       "    }\n",
       "\n",
       "    .dataframe thead th {\n",
       "        text-align: right;\n",
       "    }\n",
       "</style>\n",
       "<table border=\"1\" class=\"dataframe\">\n",
       "  <thead>\n",
       "    <tr style=\"text-align: right;\">\n",
       "      <th></th>\n",
       "      <th>Age</th>\n",
       "      <th>Job</th>\n",
       "      <th>Credit amount</th>\n",
       "      <th>Duration</th>\n",
       "      <th>Risk</th>\n",
       "      <th>Saving accountsNa</th>\n",
       "      <th>Checking accountNa</th>\n",
       "    </tr>\n",
       "  </thead>\n",
       "  <tbody>\n",
       "    <tr>\n",
       "      <th>count</th>\n",
       "      <td>1000.000000</td>\n",
       "      <td>1000.000000</td>\n",
       "      <td>1000.000000</td>\n",
       "      <td>1000.000000</td>\n",
       "      <td>1000.000000</td>\n",
       "      <td>1000.00000</td>\n",
       "      <td>1000.000000</td>\n",
       "    </tr>\n",
       "    <tr>\n",
       "      <th>mean</th>\n",
       "      <td>35.546000</td>\n",
       "      <td>1.904000</td>\n",
       "      <td>3271.258000</td>\n",
       "      <td>20.903000</td>\n",
       "      <td>0.700000</td>\n",
       "      <td>0.18300</td>\n",
       "      <td>0.394000</td>\n",
       "    </tr>\n",
       "    <tr>\n",
       "      <th>std</th>\n",
       "      <td>11.375469</td>\n",
       "      <td>0.653614</td>\n",
       "      <td>2822.736876</td>\n",
       "      <td>12.058814</td>\n",
       "      <td>0.458487</td>\n",
       "      <td>0.38686</td>\n",
       "      <td>0.488879</td>\n",
       "    </tr>\n",
       "    <tr>\n",
       "      <th>min</th>\n",
       "      <td>19.000000</td>\n",
       "      <td>0.000000</td>\n",
       "      <td>250.000000</td>\n",
       "      <td>4.000000</td>\n",
       "      <td>0.000000</td>\n",
       "      <td>0.00000</td>\n",
       "      <td>0.000000</td>\n",
       "    </tr>\n",
       "    <tr>\n",
       "      <th>25%</th>\n",
       "      <td>27.000000</td>\n",
       "      <td>2.000000</td>\n",
       "      <td>1365.500000</td>\n",
       "      <td>12.000000</td>\n",
       "      <td>0.000000</td>\n",
       "      <td>0.00000</td>\n",
       "      <td>0.000000</td>\n",
       "    </tr>\n",
       "    <tr>\n",
       "      <th>50%</th>\n",
       "      <td>33.000000</td>\n",
       "      <td>2.000000</td>\n",
       "      <td>2319.500000</td>\n",
       "      <td>18.000000</td>\n",
       "      <td>1.000000</td>\n",
       "      <td>0.00000</td>\n",
       "      <td>0.000000</td>\n",
       "    </tr>\n",
       "    <tr>\n",
       "      <th>75%</th>\n",
       "      <td>42.000000</td>\n",
       "      <td>2.000000</td>\n",
       "      <td>3972.250000</td>\n",
       "      <td>24.000000</td>\n",
       "      <td>1.000000</td>\n",
       "      <td>0.00000</td>\n",
       "      <td>1.000000</td>\n",
       "    </tr>\n",
       "    <tr>\n",
       "      <th>max</th>\n",
       "      <td>75.000000</td>\n",
       "      <td>3.000000</td>\n",
       "      <td>18424.000000</td>\n",
       "      <td>72.000000</td>\n",
       "      <td>1.000000</td>\n",
       "      <td>1.00000</td>\n",
       "      <td>1.000000</td>\n",
       "    </tr>\n",
       "  </tbody>\n",
       "</table>\n",
       "</div>"
      ],
      "text/plain": [
       "               Age          Job  Credit amount     Duration         Risk  \\\n",
       "count  1000.000000  1000.000000    1000.000000  1000.000000  1000.000000   \n",
       "mean     35.546000     1.904000    3271.258000    20.903000     0.700000   \n",
       "std      11.375469     0.653614    2822.736876    12.058814     0.458487   \n",
       "min      19.000000     0.000000     250.000000     4.000000     0.000000   \n",
       "25%      27.000000     2.000000    1365.500000    12.000000     0.000000   \n",
       "50%      33.000000     2.000000    2319.500000    18.000000     1.000000   \n",
       "75%      42.000000     2.000000    3972.250000    24.000000     1.000000   \n",
       "max      75.000000     3.000000   18424.000000    72.000000     1.000000   \n",
       "\n",
       "       Saving accountsNa  Checking accountNa  \n",
       "count         1000.00000         1000.000000  \n",
       "mean             0.18300            0.394000  \n",
       "std              0.38686            0.488879  \n",
       "min              0.00000            0.000000  \n",
       "25%              0.00000            0.000000  \n",
       "50%              0.00000            0.000000  \n",
       "75%              0.00000            1.000000  \n",
       "max              1.00000            1.000000  "
      ]
     },
     "execution_count": 252,
     "metadata": {},
     "output_type": "execute_result"
    }
   ],
   "source": [
    "data.describe()"
   ]
  },
  {
   "cell_type": "code",
   "execution_count": 473,
   "id": "55e29bdd",
   "metadata": {},
   "outputs": [],
   "source": [
    "data_age = np.array(data['Age'])\n",
    "age_range = [i for i in range(int(np.min(data_age)),int(np.max(data_age))+1,int(np.std(data_age)))]\n",
    "for i in range(len(data_age)):\n",
    "    for j in range(len(age_range)):\n",
    "        if data_age[i]==19:\n",
    "            data_age[i]=str(str(19)+'_'+str(30))\n",
    "        elif data_age[i]==75:\n",
    "            data_age[i]=str(str(63)+'_'+str(74))\n",
    "        elif data_age[i]<=age_range[j]:\n",
    "            data_age[i] = str(age_range[j-1])+str(age_range[j])"
   ]
  },
  {
   "cell_type": "markdown",
   "id": "695c6a3c",
   "metadata": {},
   "source": [
    "P(A|B) = (P(B|A)*P(A))/P(B)\n",
    "\n",
    "0 1\n",
    "0  1\n",
    "1\n",
    "\n",
    "19 30 41 52 63 74\n",
    "\n",
    "20\n",
    "\n",
    "19_30"
   ]
  },
  {
   "cell_type": "code",
   "execution_count": 474,
   "id": "2dab4939",
   "metadata": {},
   "outputs": [
    {
     "data": {
      "text/plain": [
       "1930    411\n",
       "3041    332\n",
       "4152    161\n",
       "5263     68\n",
       "6374     28\n",
       "Name: Age, dtype: int64"
      ]
     },
     "execution_count": 474,
     "metadata": {},
     "output_type": "execute_result"
    }
   ],
   "source": [
    "data_age = list(map(str,data_age))\n",
    "data['Age'] = data_age\n",
    "data['Age'].value_counts()"
   ]
  },
  {
   "cell_type": "code",
   "execution_count": 475,
   "id": "055c283d",
   "metadata": {},
   "outputs": [],
   "source": [
    "data_credit = np.array(data['Credit amount'])\n",
    "credit_range = [i for i in range(int(np.min(data_credit)),int(np.max(data_credit))+1,int(np.std(data_credit)))]\n",
    "for i in range(len(data_credit)):\n",
    "    for j in range(len(credit_range)):\n",
    "        if data_credit[i]==18424:\n",
    "            data_credit[i]=str(str(250)+'_'+str(3071))\n",
    "        elif data_credit[i]==250:\n",
    "            data_credit[i]=str(str(14355)+'_'+str(17176))\n",
    "        elif data_credit[i]<=credit_range[j]:\n",
    "            data_credit[i] = str(credit_range[j-1])+str(credit_range[j])"
   ]
  },
  {
   "cell_type": "code",
   "execution_count": 476,
   "id": "16dc3f33",
   "metadata": {},
   "outputs": [
    {
     "data": {
      "text/plain": [
       "2503071       633\n",
       "30715892      212\n",
       "58928713       99\n",
       "871311534      29\n",
       "1153414355     18\n",
       "1435517176      9\n",
       "Name: Credit amount, dtype: int64"
      ]
     },
     "execution_count": 476,
     "metadata": {},
     "output_type": "execute_result"
    }
   ],
   "source": [
    "data_credit = list(map(str,data_credit))\n",
    "data['Credit amount'] = data_credit\n",
    "data['Credit amount'].value_counts()"
   ]
  },
  {
   "cell_type": "code",
   "execution_count": 477,
   "id": "1944e319",
   "metadata": {},
   "outputs": [],
   "source": [
    "data_duration = np.array(data['Duration'])\n",
    "duration_range = [i for i in range(int(np.min(data_duration)),int(np.max(data_duration))+1,int(np.std(data_duration)))]\n",
    "for i in range(len(data_duration)):\n",
    "    for j in range(len(duration_range)):\n",
    "        if data_duration[i]==4:\n",
    "            data_duration[i]=str(str(4)+'_'+str(16))\n",
    "        elif data_duration[i]==72:\n",
    "            data_duration[i]=str(str(52)+'_'+str(64))\n",
    "        elif data_duration[i]<=duration_range[j]:\n",
    "            data_duration[i] = str(duration_range[j-1])+str(duration_range[j])"
   ]
  },
  {
   "cell_type": "code",
   "execution_count": 478,
   "id": "2a3e865b",
   "metadata": {},
   "outputs": [
    {
     "data": {
      "text/plain": [
       "416     433\n",
       "1628    354\n",
       "2840    132\n",
       "4052     65\n",
       "5264     16\n",
       "Name: Duration, dtype: int64"
      ]
     },
     "execution_count": 478,
     "metadata": {},
     "output_type": "execute_result"
    }
   ],
   "source": [
    "data_duration = list(map(str,data_duration))\n",
    "data['Duration'] = data_duration\n",
    "data['Duration'].value_counts()"
   ]
  },
  {
   "cell_type": "code",
   "execution_count": 479,
   "id": "5c433193",
   "metadata": {},
   "outputs": [],
   "source": [
    "#Splitting the dependant and independant variables\n",
    "\n",
    "y = data['Risk']\n",
    "train = data.drop(['Risk'],axis=1)"
   ]
  },
  {
   "cell_type": "code",
   "execution_count": 480,
   "id": "26d890b7",
   "metadata": {},
   "outputs": [],
   "source": [
    "#Function to encode categorical data\n",
    "\n",
    "def encode_and_bind(original_dataframe, feature_to_encode):\n",
    "    dummies = pd.get_dummies(original_dataframe[[feature_to_encode]],drop_first = True)\n",
    "    res = pd.concat([original_dataframe, dummies], axis=1)\n",
    "    res = res.drop([feature_to_encode],axis = 1)\n",
    "    return(res)"
   ]
  },
  {
   "cell_type": "code",
   "execution_count": 481,
   "id": "70059fa6",
   "metadata": {},
   "outputs": [],
   "source": [
    "for feature in train.columns:  #categorical_columns\n",
    "    train = encode_and_bind(train,feature)"
   ]
  },
  {
   "cell_type": "code",
   "execution_count": 482,
   "id": "3be79945",
   "metadata": {},
   "outputs": [
    {
     "data": {
      "text/plain": [
       "Index(['Age_3041', 'Age_4152', 'Age_5263', 'Age_6374', 'Sex_male',\n",
       "       'Housing_own', 'Housing_rent', 'Saving accounts_little/moderate',\n",
       "       'Saving accounts_moderate', 'Saving accounts_quite rich',\n",
       "       'Saving accounts_quite rich/rich', 'Saving accounts_rich',\n",
       "       'Checking account_little', 'Checking account_little/lower moderate',\n",
       "       'Checking account_moderate', 'Checking account_rich',\n",
       "       'Credit amount_1435517176', 'Credit amount_2503071',\n",
       "       'Credit amount_30715892', 'Credit amount_58928713',\n",
       "       'Credit amount_871311534', 'Duration_2840', 'Duration_4052',\n",
       "       'Duration_416', 'Duration_5264', 'Purpose_car',\n",
       "       'Purpose_domestic appliances', 'Purpose_education',\n",
       "       'Purpose_furniture/equipment', 'Purpose_radio/TV', 'Purpose_repairs',\n",
       "       'Purpose_vacation/others'],\n",
       "      dtype='object')"
      ]
     },
     "execution_count": 482,
     "metadata": {},
     "output_type": "execute_result"
    }
   ],
   "source": [
    "train.columns"
   ]
  },
  {
   "cell_type": "code",
   "execution_count": 483,
   "id": "e3faa7e4",
   "metadata": {},
   "outputs": [
    {
     "data": {
      "text/plain": [
       "Index(['Age_3041', 'Age_4152', 'Age_5263', 'Age_6374', 'Sex_male',\n",
       "       'Housing_own', 'Housing_rent', 'Saving accounts_little/moderate',\n",
       "       'Saving accounts_moderate', 'Saving accounts_quite rich',\n",
       "       'Saving accounts_quite rich/rich', 'Saving accounts_rich',\n",
       "       'Checking account_little', 'Checking account_little/lower moderate',\n",
       "       'Checking account_moderate', 'Checking account_rich',\n",
       "       'Credit amount_1435517176', 'Credit amount_2503071',\n",
       "       'Credit amount_30715892', 'Credit amount_58928713',\n",
       "       'Credit amount_871311534', 'Duration_2840', 'Duration_4052',\n",
       "       'Duration_416', 'Duration_5264', 'Purpose_car',\n",
       "       'Purpose_domestic appliances', 'Purpose_education',\n",
       "       'Purpose_furniture/equipment', 'Purpose_radio/TV', 'Purpose_repairs',\n",
       "       'Purpose_vacation/others'],\n",
       "      dtype='object')"
      ]
     },
     "execution_count": 483,
     "metadata": {},
     "output_type": "execute_result"
    }
   ],
   "source": [
    "train.columns"
   ]
  },
  {
   "cell_type": "code",
   "execution_count": 484,
   "id": "08b82539",
   "metadata": {},
   "outputs": [
    {
     "data": {
      "text/plain": [
       "(1000, 32)"
      ]
     },
     "execution_count": 484,
     "metadata": {},
     "output_type": "execute_result"
    }
   ],
   "source": [
    "train.shape"
   ]
  },
  {
   "cell_type": "code",
   "execution_count": 485,
   "id": "3281d3aa",
   "metadata": {},
   "outputs": [],
   "source": [
    "#Cell to split train_data into model train and test data\n",
    "\n",
    "from sklearn.model_selection import train_test_split\n",
    "\n",
    "x_train,x_test,y_train,y_test = train_test_split(train,y,test_size = 0.10,random_state = 42)"
   ]
  },
  {
   "cell_type": "markdown",
   "id": "dd0755c8",
   "metadata": {},
   "source": [
    "# Model fit and evaluation"
   ]
  },
  {
   "cell_type": "code",
   "execution_count": 453,
   "id": "e2bee867",
   "metadata": {},
   "outputs": [
    {
     "data": {
      "text/plain": [
       "GaussianNB()"
      ]
     },
     "execution_count": 453,
     "metadata": {},
     "output_type": "execute_result"
    }
   ],
   "source": [
    "#Without categorization\n",
    "\n",
    "from sklearn.naive_bayes import GaussianNB\n",
    "\n",
    "gnb_usual = GaussianNB()\n",
    "gnb_usual.fit(x_train, y_train)"
   ]
  },
  {
   "cell_type": "code",
   "execution_count": 454,
   "id": "cf1f056a",
   "metadata": {},
   "outputs": [
    {
     "data": {
      "text/plain": [
       "(0.73, 0.75)"
      ]
     },
     "execution_count": 454,
     "metadata": {},
     "output_type": "execute_result"
    }
   ],
   "source": [
    "gnb_usual.score(x_train,y_train),gnb_usual.score(x_test,y_test)"
   ]
  },
  {
   "cell_type": "code",
   "execution_count": 464,
   "id": "23b6d21a",
   "metadata": {},
   "outputs": [
    {
     "data": {
      "text/plain": [
       "(26, 3, 22, 49)"
      ]
     },
     "execution_count": 464,
     "metadata": {},
     "output_type": "execute_result"
    }
   ],
   "source": [
    "from sklearn.metrics import confusion_matrix\n",
    "\n",
    "y_pred = gnb_usual.predict(x_test)\n",
    "tn, fp, fn, tp = confusion_matrix(y_test,y_pred).ravel()\n",
    "tn,fp,fn,tp"
   ]
  },
  {
   "cell_type": "code",
   "execution_count": 486,
   "id": "65064108",
   "metadata": {},
   "outputs": [
    {
     "data": {
      "text/plain": [
       "GaussianNB()"
      ]
     },
     "execution_count": 486,
     "metadata": {},
     "output_type": "execute_result"
    }
   ],
   "source": [
    "#With all features categorized\n",
    "\n",
    "from sklearn.naive_bayes import GaussianNB\n",
    "\n",
    "gnb = GaussianNB()\n",
    "gnb.fit(x_train, y_train)"
   ]
  },
  {
   "cell_type": "code",
   "execution_count": 456,
   "id": "65dd7854",
   "metadata": {},
   "outputs": [
    {
     "name": "stdout",
     "output_type": "stream",
     "text": [
      "(0.875, 0.86)\n"
     ]
    }
   ],
   "source": [
    "gnb.score(x_train,y_train),gnb.score(x_test,y_test)"
   ]
  },
  {
   "cell_type": "code",
   "execution_count": 492,
   "id": "87a5df62",
   "metadata": {},
   "outputs": [
    {
     "data": {
      "text/plain": [
       "(29, 0, 15, 56)"
      ]
     },
     "execution_count": 492,
     "metadata": {},
     "output_type": "execute_result"
    }
   ],
   "source": [
    "#from sklearn.metrics import confusion_matrix\n",
    "\n",
    "y_pred = gnb.predict(x_test)\n",
    "tn, fp, fn, tp = confusion_matrix(y_test,y_pred).ravel()\n",
    "tn,fp,fn,tp"
   ]
  },
  {
   "cell_type": "markdown",
   "id": "1d1be348",
   "metadata": {},
   "source": [
    "0  1 0 1 0 0 0 1 1 1 0=bad\n",
    "\n",
    "0  1 0 1 0 0 0 1 0 1 0=good"
   ]
  }
 ],
 "metadata": {
  "kernelspec": {
   "display_name": "Python [conda env:tensorflow] *",
   "language": "python",
   "name": "conda-env-tensorflow-py"
  },
  "language_info": {
   "codemirror_mode": {
    "name": "ipython",
    "version": 3
   },
   "file_extension": ".py",
   "mimetype": "text/x-python",
   "name": "python",
   "nbconvert_exporter": "python",
   "pygments_lexer": "ipython3",
   "version": "3.7.9"
  }
 },
 "nbformat": 4,
 "nbformat_minor": 5
}
